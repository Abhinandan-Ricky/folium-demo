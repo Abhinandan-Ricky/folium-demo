{
 "cells": [
  {
   "cell_type": "code",
   "execution_count": null,
   "metadata": {
    "collapsed": true
   },
   "outputs": [],
   "source": [
    "# Import packages\n",
    "\n",
    "import folium\n",
    "import requests\n",
    "import geocoder\n",
    "import pandas as pd\n",
    "import simplejson as json\n",
    "import string\n",
    "\n",
    "from folium import Map, Marker, GeoJson, LayerControl\n",
    "from ediblepickle import checkpoint\n",
    "\n",
    "%matplotlib inline"
   ]
  },
  {
   "cell_type": "code",
   "execution_count": null,
   "metadata": {
    "collapsed": true
   },
   "outputs": [],
   "source": [
    "# Read API keys from file\n",
    "\n",
    "with open(\"secrets/.wmata\") as fin:\n",
    "    wmata_key = fin.read().strip()\n",
    "with open(\"secrets/.walkscore\") as fin:\n",
    "    walkscore_key = fin.read().strip()"
   ]
  },
  {
   "cell_type": "markdown",
   "metadata": {},
   "source": [
    "# Folium: A Leaflet Wrapper for Python\n",
    "\n",
    "What can Folium and by extension, Leaflet can do to help you explore the structure of cities?\n",
    "\n",
    "1. [Live bus tracking](#Bus-tracker)\n",
    "1. [Neighborhood choropleths](#Neighborhood-choropleths)\n",
    "1. [Walk Score&reg; along bus routes](#Walk-Score)"
   ]
  },
  {
   "cell_type": "markdown",
   "metadata": {},
   "source": [
    "[Leaflet](http://leafletjs.com) is currently one of the most popular JavaScript libraries for mapping.\n",
    "* Interactive through web browser\n",
    "* Flexibility of JavaScript\n",
    "* Mobile-friendly\n",
    "* Great API\n",
    "* Open source\n",
    "\n",
    "[Python](https://www.python.org) is a great language for the web. Using the same language, you can\n",
    "* Get data from APIs or scrape the web with libraries like [requests](docs.python-requests.org) and [Beautiful Soup](http://www.crummy.com/software/BeautifulSoup/bs4/)\n",
    "* Process and analyze data with [NumPy, SciPy](https://docs.scipy.org), and [Pandas](http://pandas.pydata.org)\n",
    "* Model relationships with state-of-the-art machine learning library [Scikit-learn](http://scikit-learn.org)\n",
    "* Build a web framework for your project with [Flask](http://flask.pocoo.org) and [Jinja2](http://jinja.pocoo.org)\n",
    "* Host your application with anything from [Heroku](http://www.heroku.com) to [Google App Engine](https://developers.google.com/appengine).\n",
    "\n",
    "Python's continuing utility is due to its *ecosystem*, not its syntax or speed. For example, according to Wikipedia, TensorFlow was the fastest growing deep learning framework in fall 2016. The second fastest was a high-level Python library called Keras which can seamlessly plug into TensorFlow's architecture.\n",
    "\n",
    "There's a similar relationship between Leaflet.js and the Python package Folium."
   ]
  },
  {
   "cell_type": "markdown",
   "metadata": {},
   "source": [
    "## Folium\n",
    "\n",
    "Folium uses the Leaflet API to allow users to write Python code to generate and manipulate interactive JavaScript maps. This also allows for drawing those maps in Jupyter notebooks.\n",
    "\n",
    "### Interactivity\n",
    "\n",
    "You can drag, zoom, click, and hover. More generally you can provide **input** and get **output**, even if that output requires backend calculations. JavaScript was designed to ferry information between the frontend and the backend seamlessly.\n",
    "\n",
    "* More seamless than redrawing maps\n",
    "* Answer questions in real time\n",
    "* Simultaneous exploration and explanation\n",
    "\n",
    "All this makes for a good tool.\n",
    "\n",
    "### Documentation\n",
    "\n",
    "* [GitHub](https://github.com/python-visualization/folium)\n",
    "* [Docs and API](http://python-visualization.github.io/folium/index.html)\n",
    "* [Examples](https://github.com/python-visualization/folium/tree/master/examples)"
   ]
  },
  {
   "cell_type": "markdown",
   "metadata": {},
   "source": [
    "## Bus tracker\n",
    "\n",
    "The WMATA API is free to use. Learn more [here](https://developer.wmata.com).\n",
    "\n",
    "* Investigate real time positions compared to scheduled locations to say something about actual vs. ideal transit\n",
    "* Look at how connections between regions vary throughout the day\n",
    "\n",
    "Interactivity:\n",
    "* Input: location of interest, search radius\n",
    "* Output: locations and information of buses in the area"
   ]
  },
  {
   "cell_type": "markdown",
   "metadata": {},
   "source": [
    "### Geocoder\n",
    "\n",
    "An alternative to calling eg. the OpenStreetMap API, [geocoder](http://geocoder.readthedocs.io) provides a wrapper around a number of popular geocoding services."
   ]
  },
  {
   "cell_type": "code",
   "execution_count": null,
   "metadata": {},
   "outputs": [],
   "source": [
    "location = 'Dupont Circle'\n",
    "loc = geocoder.google(location)\n",
    "print loc.latlng"
   ]
  },
  {
   "cell_type": "code",
   "execution_count": null,
   "metadata": {},
   "outputs": [],
   "source": [
    "# Maps are hierarchical objects\n",
    "\n",
    "bus_map = Map(location=loc.latlng,\n",
    "               zoom_start=15)\n",
    "bus_map.add_child(Marker(location=loc.latlng, popup=loc.address, icon = folium.Icon(color = 'blue')))\n",
    "# bus_map.add_child(GeoJson(loc.geojson))\n",
    "bus_map"
   ]
  },
  {
   "cell_type": "code",
   "execution_count": null,
   "metadata": {
    "collapsed": true
   },
   "outputs": [],
   "source": [
    "# Saving maps\n",
    "\n",
    "# bus_map.save('bus_map.html')"
   ]
  },
  {
   "cell_type": "code",
   "execution_count": null,
   "metadata": {
    "collapsed": true
   },
   "outputs": [],
   "source": [
    "# Set general WMATA parameters\n",
    "\n",
    "session = requests.Session()\n",
    "session.mount('https://api.wmata.com', requests.adapters.HTTPAdapter(max_retries = 2))\n",
    "\n",
    "headers = {'api_key': wmata_key}\n",
    "\n",
    "radius = '1000'"
   ]
  },
  {
   "cell_type": "markdown",
   "metadata": {},
   "source": [
    "### Checkpointing\n",
    "\n",
    "Caching and checkpointing is crucial for dealing with APIs sustainably and respectfully. You should never hit an endpoint twice for the same data.\n",
    "\n",
    "[Edible Pickle](https://pypi.python.org/pypi/ediblepickle) is a checkpointing tool that allows you to save the expensive results of a function so that it need not be run again if that result is already present.\n",
    "\n",
    "In the following cell, setting `refresh = True` will make the function get current data instead of relying on the cache."
   ]
  },
  {
   "cell_type": "code",
   "execution_count": null,
   "metadata": {
    "collapsed": true
   },
   "outputs": [],
   "source": [
    "# Call API for bus locations\n",
    "\n",
    "bus_endpoint = 'https://api.wmata.com/Bus.svc/json/jBusPositions'\n",
    "\n",
    "@checkpoint(key = string.Template('{0}x{1}_radius{2}.buslist'), work_dir = 'cache/', refresh = False)\n",
    "def get_buses(lat, lon, radius):\n",
    "    \"\"\"\n",
    "    All values passed as strings and radius in meters\n",
    "    \"\"\"\n",
    "\n",
    "    params = {\n",
    "              # 'RouteID': 'B12',\n",
    "              'Lat': lat,\n",
    "              'Lon': lon,\n",
    "              'Radius': radius\n",
    "             }\n",
    "\n",
    "    response = session.get(bus_endpoint, params = params, headers = headers)\n",
    "    if not response.status_code == 200:\n",
    "        raise ValueError(\"Response status not 200\")\n",
    "    else:\n",
    "        return response.json()['BusPositions']"
   ]
  },
  {
   "cell_type": "code",
   "execution_count": null,
   "metadata": {
    "collapsed": true
   },
   "outputs": [],
   "source": [
    "bus_list = get_buses(loc.lat, loc.lng, radius)\n",
    "# buses_in_the_area = len(bus_list)"
   ]
  },
  {
   "cell_type": "code",
   "execution_count": null,
   "metadata": {},
   "outputs": [],
   "source": [
    "# example response element\n",
    "\n",
    "bus_list[0]"
   ]
  },
  {
   "cell_type": "code",
   "execution_count": null,
   "metadata": {},
   "outputs": [],
   "source": [
    "for bus in bus_list:\n",
    "    folium.features.RegularPolygonMarker(location = [bus['Lat'], bus['Lon']],\n",
    "                                         popup = 'Route %s to %s' % (bus['RouteID'], bus['TripHeadsign']),\n",
    "                                         number_of_sides = 3,\n",
    "                                         radius = 10,\n",
    "                                         weight = 1,\n",
    "                                         fill_opacity = 0.8).add_to(bus_map)\n",
    "bus_map"
   ]
  },
  {
   "cell_type": "markdown",
   "metadata": {},
   "source": [
    "### Exercises\n",
    "\n",
    "* Use the WMATA bus routes endpoint to identify a bus' next stop, and use math to rotate its triangle to the right direction\n",
    "* Overlay trains in the area on the map"
   ]
  },
  {
   "cell_type": "markdown",
   "metadata": {},
   "source": [
    "## Neighborhood choropleths\n",
    "\n",
    "* Visualize metrics of interest that have different values for each region\n",
    "* Overlay metrics to perform an \"and\" query\n",
    "\n",
    "Interactivity:\n",
    "* Input: neighborhood shape information, a value for each neighborhood to plot\n",
    "* Output: neighborhood regions highlighted on map, colored by value"
   ]
  },
  {
   "cell_type": "code",
   "execution_count": null,
   "metadata": {
    "collapsed": true
   },
   "outputs": [],
   "source": [
    "nh_map = Map(location = loc.latlng,\n",
    "             zoom_start = 13,\n",
    "             tiles = 'Stamen Toner')"
   ]
  },
  {
   "cell_type": "markdown",
   "metadata": {},
   "source": [
    "### GeoJSON\n",
    "\n",
    "A file format that combines geographical data with associated JSON attributes. You can find or create these datasets in a variety of ways. This particular dataset comes from [this GitHub repository](https://github.com/benbalter/dc-maps/tree/master/maps)."
   ]
  },
  {
   "cell_type": "code",
   "execution_count": null,
   "metadata": {},
   "outputs": [],
   "source": [
    "with open('geojson/neighborhood-composition.geojson') as fin:\n",
    "    gjdata = json.load(fin)\n",
    "nhoods = gjdata['features']\n",
    "nhoods[0]"
   ]
  },
  {
   "cell_type": "code",
   "execution_count": null,
   "metadata": {
    "collapsed": true
   },
   "outputs": [],
   "source": [
    "# Create Pandas DataFrame\n",
    "\n",
    "nhdata = pd.DataFrame([nhood['properties'] for nhood in nhoods], columns = sorted(nhoods[0]['properties'].keys()))"
   ]
  },
  {
   "cell_type": "code",
   "execution_count": null,
   "metadata": {},
   "outputs": [],
   "source": [
    "nhdata.head()"
   ]
  },
  {
   "cell_type": "code",
   "execution_count": null,
   "metadata": {},
   "outputs": [],
   "source": [
    "# Using Pandas to create derived variables\n",
    "\n",
    "nhdata['Density'] = nhdata['POP90'] / nhdata['AREA_']\n",
    "nhdata.describe()"
   ]
  },
  {
   "cell_type": "markdown",
   "metadata": {},
   "source": [
    "### Colormaps\n",
    "\n",
    "Check out [ColorBrewer](http://colorbrewer2.org) for advice about coloring for cartography."
   ]
  },
  {
   "cell_type": "code",
   "execution_count": null,
   "metadata": {},
   "outputs": [],
   "source": [
    "# Set up colormaps to represent the range of values\n",
    "\n",
    "from branca.colormap import linear\n",
    "\n",
    "popcolors = linear.GnBu.scale(\n",
    "    nhdata['POP90'].min(),\n",
    "    nhdata['POP90'].max() / 1.5)\n",
    "\n",
    "povcolors = linear.PuRd.scale(\n",
    "    nhdata['POVRATE'].min(),\n",
    "    nhdata['POVRATE'].max() / 2)\n",
    "\n",
    "print popcolors(1000)\n",
    "\n",
    "povcolors"
   ]
  },
  {
   "cell_type": "code",
   "execution_count": null,
   "metadata": {
    "collapsed": true
   },
   "outputs": [],
   "source": [
    "# Adds a caption to the map that shows the color scale\n",
    "\n",
    "# popcolors.caption = 'Population Scale'\n",
    "# popcolors.add_to(nh_map)"
   ]
  },
  {
   "cell_type": "code",
   "execution_count": null,
   "metadata": {},
   "outputs": [],
   "source": [
    "GeoJson(gjdata,\n",
    "        name = 'population',\n",
    "        style_function = lambda feature: {\n",
    "            'color': 'black',\n",
    "            'weight': 1,\n",
    "            'dashArray': '5, 5',\n",
    "            'fillColor': popcolors(feature['properties']['POP90'])\n",
    "            }\n",
    "        ).add_to(nh_map)"
   ]
  },
  {
   "cell_type": "code",
   "execution_count": null,
   "metadata": {},
   "outputs": [],
   "source": [
    "GeoJson(gjdata,\n",
    "        name = 'poverty rate',\n",
    "        style_function = lambda feature: {\n",
    "            'color': 'black',\n",
    "            'weight': 1,\n",
    "            'dashArray': '5, 5',\n",
    "            'fillColor': povcolors(feature['properties']['POVRATE'])\n",
    "            }\n",
    "        ).add_to(nh_map)"
   ]
  },
  {
   "cell_type": "code",
   "execution_count": null,
   "metadata": {},
   "outputs": [],
   "source": [
    "LayerControl().add_to(nh_map)"
   ]
  },
  {
   "cell_type": "code",
   "execution_count": null,
   "metadata": {},
   "outputs": [],
   "source": [
    "# Colormaps can be changed on the fly\n",
    "\n",
    "nh_map"
   ]
  },
  {
   "cell_type": "markdown",
   "metadata": {},
   "source": [
    "### More succinct choropleths\n",
    "\n",
    "This [example notebook](http://nbviewer.jupyter.org/github/python-visualization/folium/blob/master/examples/GeoJSON_and_choropleth.ipynb) goes through some other techniques for creating choropleths with additional functionality all within one choropleth method."
   ]
  },
  {
   "cell_type": "markdown",
   "metadata": {},
   "source": [
    "### Exercises\n",
    "\n",
    "* Come up with a standard way of setting colormap thresholds for different variable distributions\n",
    "* Get a shapefile from the DC OpenData API and [convert it to GeoJSON](https://ben.balter.com/2013/06/26/how-to-convert-shapefiles-to-geojson-for-use-on-github/) using [ogr2ogr](https://ogre.adc4gis.com) or a similar tool"
   ]
  },
  {
   "cell_type": "markdown",
   "metadata": {},
   "source": [
    "## Walk Score\n",
    "\n",
    "A measure of how dependent an address is on having a car. For example, areas that require cars are more expensive than they seem to live in. An [API](https://www.walkscore.com/professional/api.php) is available.\n",
    "\n",
    "<a href = \"https://www.walkscore.com/how-it-works/\"><img src = 'https://cdn.walk.sc/images/api-logo.gif' style = \"float: left; margin: 0px 10px 0px 0px\" /></a>\n",
    "[84](https://www.walkscore.com/how-it-works/)\n",
    "<a href = \"https://www.redfin.com/how-walk-score-works\"><img src = 'https://cdn.walk.sc/images/api-more-info.gif' style = \"float: right; margin: 0px 810px 0px 0px\" /></a>\n",
    "\n",
    "* Investigate how transit routes lie on top of underlying people - what's between the bus stops?\n",
    "* Is the purpose of a bus route to increase \"walkability\" for populations?\n",
    "\n",
    "Interactivity:\n",
    "* Input: bus route\n",
    "* Output: line along the shape of the route, colored by score"
   ]
  },
  {
   "cell_type": "code",
   "execution_count": null,
   "metadata": {
    "collapsed": true
   },
   "outputs": [],
   "source": [
    "# Get Metrobus route data from WMATA\n",
    "\n",
    "route_endpoint = 'https://api.wmata.com/Bus.svc/json/jRouteDetails'\n",
    "date = '2017-08-01'  # Changing this constant will likely require hitting the API\n",
    "\n",
    "def get_route_shape(route, date):  # eg. 'L2', 'YYYY-MM-DD'\n",
    "    params = {'RouteID': route}\n",
    "    if date:\n",
    "        params['Date'] = date\n",
    "    response = session.get(route_endpoint, params = params, headers = headers)\n",
    "    if response.status_code != 200:\n",
    "        raise ValueError(\"Error: Response status not 200\")\n",
    "    else:\n",
    "        return response.json()['Direction0']['Shape']\n",
    "\n",
    "# for stop in route_shape:\n",
    "#     Marker(location=[stop['Lat'], stop['Lon']], popup=str(stop['SeqNum'])).add_to(m)"
   ]
  },
  {
   "cell_type": "code",
   "execution_count": null,
   "metadata": {
    "collapsed": true
   },
   "outputs": [],
   "source": [
    "# Get Walkscore data - 500 ft grid resolution\n",
    "\n",
    "\"\"\"\n",
    "http://api.walkscore.com/score?format=json&\n",
    "address=1119%8th%20Avenue%20Seattle%20WA%2098101&lat=47.6085&\n",
    "lon=-122.3295&transit=1&bike=1&wsapikey=<YOUR-WSAPIKEY>\n",
    "\"\"\"\n",
    "\n",
    "walkscore_endpoint = 'http://api.walkscore.com/score'\n",
    "\n",
    "def get_walkscore(pin):\n",
    "    params = {'format': 'json',\n",
    "              'wsapikey': walkscore_key,\n",
    "              'lat': pin[0],\n",
    "              'lon': pin[1],\n",
    "              'transit': '1',\n",
    "              'bike': '1',\n",
    "              'address': geocoder.google(pin, method='reverse').address}\n",
    "    response = requests.get(walkscore_endpoint, params = params)\n",
    "    if response.status_code != 200:\n",
    "        return None\n",
    "    else:\n",
    "        return response.json()"
   ]
  },
  {
   "cell_type": "code",
   "execution_count": null,
   "metadata": {
    "collapsed": true
   },
   "outputs": [],
   "source": [
    "@checkpoint(key = string.Template('{0}_scores_{1}.panda'), work_dir = 'cache/', refresh = False)\n",
    "def get_route_scores(route, date):\n",
    "    shape = get_route_shape(route, date)\n",
    "    pins = [(pin['Lat'], pin['Lon']) for pin in shape]\n",
    "    \n",
    "    walk_scores = []\n",
    "    transit_scores = []\n",
    "    bike_scores = []\n",
    "    for pin in pins:\n",
    "        score_json = get_walkscore(pin)\n",
    "        if not score_json:\n",
    "            walk_scores.append(-1)\n",
    "            transit_scores.append(-1)\n",
    "            bike_scores.append(-1)\n",
    "            continue\n",
    "\n",
    "        walk_scores.append(score_json.get('walkscore', -1))\n",
    "        transit_scores.append(score_json.get('transit', {}).get('score', -1))\n",
    "        bike_scores.append(score_json.get('bike', {}).get('score', -1))\n",
    "    df = pd.DataFrame({'pin': pins,\n",
    "                       'walk_score': walk_scores,\n",
    "                       'transit_score': transit_scores,\n",
    "                       'bike_score': bike_scores})\n",
    "    df = df[['pin', 'walk_score', 'bike_score', 'transit_score']]\n",
    "    return df"
   ]
  },
  {
   "cell_type": "code",
   "execution_count": null,
   "metadata": {
    "collapsed": true
   },
   "outputs": [],
   "source": [
    "# Example response from Walk Score API\n",
    "\n",
    "test = get_walkscore(loc.latlng)"
   ]
  },
  {
   "cell_type": "code",
   "execution_count": null,
   "metadata": {},
   "outputs": [],
   "source": [
    "test"
   ]
  },
  {
   "cell_type": "code",
   "execution_count": null,
   "metadata": {
    "collapsed": true
   },
   "outputs": [],
   "source": [
    "# This is where the magic happens\n",
    "# Cached data for: L2, V5, E4, W4, 38B, 70\n",
    "# Maps here: https://www.wmata.com/schedules/maps/\n",
    "\n",
    "route = 'L2'\n",
    "\n",
    "df = get_route_scores(route, date)"
   ]
  },
  {
   "cell_type": "code",
   "execution_count": null,
   "metadata": {},
   "outputs": [],
   "source": [
    "print df.shape\n",
    "df.head()"
   ]
  },
  {
   "cell_type": "code",
   "execution_count": null,
   "metadata": {
    "collapsed": true
   },
   "outputs": [],
   "source": [
    "score_map = Map(location = loc.latlng, zoom_start = 12, tiles = 'Stamen Terrain')"
   ]
  },
  {
   "cell_type": "code",
   "execution_count": null,
   "metadata": {},
   "outputs": [],
   "source": [
    "color_line = folium.features.ColorLine(\n",
    "    df['pin'],\n",
    "    colors = df['walk_score'],\n",
    "    colormap = ['y', 'orange', 'r'],\n",
    "    weight = 6,\n",
    "    name = u'Route %s Walk Score\\u00ae' % route)\n",
    "color_line.add_to(score_map)"
   ]
  },
  {
   "cell_type": "code",
   "execution_count": null,
   "metadata": {},
   "outputs": [],
   "source": [
    "# This adds the population layer back in\n",
    "\n",
    "GeoJson(gjdata,\n",
    "        name = 'population',\n",
    "        style_function = lambda feature: {\n",
    "            'color': 'black',\n",
    "            'weight': 1,\n",
    "            'dashArray': '5, 5',\n",
    "            'fillColor': popcolors(feature['properties']['POP90'])\n",
    "            }\n",
    "        ).add_to(score_map)"
   ]
  },
  {
   "cell_type": "code",
   "execution_count": null,
   "metadata": {},
   "outputs": [],
   "source": [
    "LayerControl().add_to(score_map)"
   ]
  },
  {
   "cell_type": "code",
   "execution_count": null,
   "metadata": {},
   "outputs": [],
   "source": [
    "score_map"
   ]
  },
  {
   "cell_type": "code",
   "execution_count": null,
   "metadata": {
    "collapsed": true
   },
   "outputs": [],
   "source": [
    "# score_map.save(\"score_map.html\")"
   ]
  },
  {
   "cell_type": "markdown",
   "metadata": {},
   "source": [
    "### Exercises\n",
    "\n",
    "* Use a for loop to add all colorlines to the map\n",
    "* Overlay Walk Score fluctuations with census block or block group populations\n",
    "* Cluster bus routes by \"purpose\" based on how much time they spend in highly walkable areas"
   ]
  },
  {
   "cell_type": "markdown",
   "metadata": {
    "collapsed": true
   },
   "source": [
    "## Call to Action\n",
    "\n",
    "\"There's a lot of energy behind open source.\"\n",
    "\n",
    "Go learn, go do, go share!"
   ]
  },
  {
   "cell_type": "markdown",
   "metadata": {},
   "source": []
  },
  {
   "cell_type": "markdown",
   "metadata": {},
   "source": []
  },
  {
   "cell_type": "markdown",
   "metadata": {},
   "source": [
    "&copy; Ariel M'ndange-Pfupfu 2017"
   ]
  }
 ],
 "metadata": {
  "kernelspec": {
   "display_name": "Python 2",
   "language": "python",
   "name": "python2"
  },
  "language_info": {
   "codemirror_mode": {
    "name": "ipython",
    "version": 2
   },
   "file_extension": ".py",
   "mimetype": "text/x-python",
   "name": "python",
   "nbconvert_exporter": "python",
   "pygments_lexer": "ipython2",
   "version": "2.7.13"
  }
 },
 "nbformat": 4,
 "nbformat_minor": 2
}
